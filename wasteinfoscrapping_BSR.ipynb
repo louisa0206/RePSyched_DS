{
 "cells": [
  {
   "cell_type": "code",
   "execution_count": 6,
   "metadata": {},
   "outputs": [],
   "source": [
    "import csv\n",
    "from urllib.request import Request, urlopen\n",
    "\n",
    "from bs4 import BeautifulSoup\n",
    "\n",
    "file = open('wasteinfo.csv', 'w', newline=\"\")\n",
    "writer = csv.writer(file)\n",
    "writer.writerow(['Bins_Category', 'Belongs', 'Not Belongs'])\n",
    "\n",
    "url = \"https://www.bsr.de/die-berliner-stadtreinigung-in-englischer-sprache-26142.php\"\n",
    "req = Request(url, headers={'User-Agent': 'Mozilla/5.0'})\n",
    "\n",
    "soup = BeautifulSoup(urlopen(req).read(), \"html.parser\")\n",
    "\n",
    "next_main_tags = soup.find_all('div', {'class': 'mod mod-text-img'})\n",
    "\n",
    "del next_main_tags[0]\n",
    "for next_main_tag in next_main_tags:\n",
    "    Bins_Category = next_main_tag.find_next('h3')\n",
    "    listing = next_main_tag.find_next('div', {'class': 'mod mod-listing'})\n",
    "    positive = listing.find('dl', {'class': 'listing-pro'})\n",
    "    negative = listing.find('dl', {'class': 'listing-contra'})\n",
    "    belong = []\n",
    "    not_belong = []\n",
    "    if positive is not None:\n",
    "        positive_description_listing_dd = positive.find_next('dd')\n",
    "        positive_description_listing = positive_description_listing_dd.find_next('div', {'class': 'wysiwyg'})\n",
    "        paragraphs = positive_description_listing.findAll('p')\n",
    "        for paragraph in paragraphs:\n",
    "            belong.append(paragraph.text)\n",
    "\n",
    "    if negative is not None:\n",
    "        negative_description_listing_dd = negative.find_next('dd')\n",
    "        negative_description_listing = negative_description_listing_dd.find_next('div', {'class': 'wysiwyg'})\n",
    "        paragraphs = negative_description_listing.findAll('p')\n",
    "        for paragraph in paragraphs:\n",
    "            not_belong.append(paragraph.text)\n",
    "\n",
    "    writer.writerow([Bins_Category.text, str(belong).strip(\"[]\"), str(not_belong).strip(\"[]\")])"
   ]
  },
  {
   "cell_type": "code",
   "execution_count": null,
   "metadata": {},
   "outputs": [],
   "source": []
  }
 ],
 "metadata": {
  "kernelspec": {
   "display_name": "Python 3",
   "language": "python",
   "name": "python3"
  },
  "language_info": {
   "codemirror_mode": {
    "name": "ipython",
    "version": 3
   },
   "file_extension": ".py",
   "mimetype": "text/x-python",
   "name": "python",
   "nbconvert_exporter": "python",
   "pygments_lexer": "ipython3",
   "version": "3.8.5"
  }
 },
 "nbformat": 4,
 "nbformat_minor": 4
}
